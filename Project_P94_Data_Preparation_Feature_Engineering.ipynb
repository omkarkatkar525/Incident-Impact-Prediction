{
  "nbformat": 4,
  "nbformat_minor": 0,
  "metadata": {
    "colab": {
      "name": "Project_P94_Data_Preparation_Feature_Engineering.ipynb",
      "provenance": []
    },
    "kernelspec": {
      "name": "python3",
      "display_name": "Python 3"
    },
    "language_info": {
      "name": "python"
    }
  },
  "cells": [
    {
      "cell_type": "markdown",
      "metadata": {
        "id": "zuTijaqUsa6Y"
      },
      "source": [
        "## Data Preparation"
      ]
    },
    {
      "cell_type": "code",
      "execution_count": null,
      "metadata": {
        "id": "NWbdAiaNtqbf"
      },
      "outputs": [],
      "source": [
        "incident_data.reset_index(inplace=True)"
      ]
    },
    {
      "cell_type": "code",
      "execution_count": null,
      "metadata": {
        "id": "bgxNzZo4vMqw",
        "colab": {
          "base_uri": "https://localhost:8080/"
        },
        "outputId": "f430a3f3-d36d-4bb2-e28b-d3c4ee2c8781"
      },
      "outputs": [
        {
          "output_type": "execute_result",
          "data": {
            "text/plain": [
              "0         1\n",
              "1         1\n",
              "2         1\n",
              "3         1\n",
              "4         1\n",
              "         ..\n",
              "133031    1\n",
              "133032    1\n",
              "133033    1\n",
              "133034    1\n",
              "133035    1\n",
              "Name: impact, Length: 133036, dtype: int64"
            ]
          },
          "metadata": {},
          "execution_count": 108
        }
      ],
      "source": [
        "y=incident_data['impact']\n",
        "y"
      ]
    },
    {
      "cell_type": "code",
      "source": [
        "X=incident_data.drop(columns='impact')\n",
        "X"
      ],
      "metadata": {
        "id": "4eVCAe0o6i79",
        "colab": {
          "base_uri": "https://localhost:8080/",
          "height": 488
        },
        "outputId": "e8f3eecf-fe62-4c72-de03-b88d8995d711"
      },
      "execution_count": null,
      "outputs": [
        {
          "output_type": "execute_result",
          "data": {
            "text/html": [
              "\n",
              "  <div id=\"df-e448591c-d590-4cd0-b39a-3382d70600c6\">\n",
              "    <div class=\"colab-df-container\">\n",
              "      <div>\n",
              "<style scoped>\n",
              "    .dataframe tbody tr th:only-of-type {\n",
              "        vertical-align: middle;\n",
              "    }\n",
              "\n",
              "    .dataframe tbody tr th {\n",
              "        vertical-align: top;\n",
              "    }\n",
              "\n",
              "    .dataframe thead th {\n",
              "        text-align: right;\n",
              "    }\n",
              "</style>\n",
              "<table border=\"1\" class=\"dataframe\">\n",
              "  <thead>\n",
              "    <tr style=\"text-align: right;\">\n",
              "      <th></th>\n",
              "      <th>index</th>\n",
              "      <th>number</th>\n",
              "      <th>incident_state</th>\n",
              "      <th>active</th>\n",
              "      <th>reassignment_count</th>\n",
              "      <th>reopen_count</th>\n",
              "      <th>sys_mod_count</th>\n",
              "      <th>made_sla</th>\n",
              "      <th>caller_id</th>\n",
              "      <th>opened_by</th>\n",
              "      <th>...</th>\n",
              "      <th>u_symptom</th>\n",
              "      <th>urgency</th>\n",
              "      <th>priority</th>\n",
              "      <th>assignment_group</th>\n",
              "      <th>assigned_to</th>\n",
              "      <th>knowledge</th>\n",
              "      <th>u_priority_confirmation</th>\n",
              "      <th>notify</th>\n",
              "      <th>closed_code</th>\n",
              "      <th>resolved_by</th>\n",
              "    </tr>\n",
              "  </thead>\n",
              "  <tbody>\n",
              "    <tr>\n",
              "      <th>0</th>\n",
              "      <td>0</td>\n",
              "      <td>0</td>\n",
              "      <td>6</td>\n",
              "      <td>1</td>\n",
              "      <td>0</td>\n",
              "      <td>0</td>\n",
              "      <td>0</td>\n",
              "      <td>1</td>\n",
              "      <td>1398</td>\n",
              "      <td>198</td>\n",
              "      <td>...</td>\n",
              "      <td>494</td>\n",
              "      <td>1</td>\n",
              "      <td>2</td>\n",
              "      <td>46</td>\n",
              "      <td>72</td>\n",
              "      <td>1</td>\n",
              "      <td>0</td>\n",
              "      <td>0</td>\n",
              "      <td>12</td>\n",
              "      <td>50</td>\n",
              "    </tr>\n",
              "    <tr>\n",
              "      <th>1</th>\n",
              "      <td>1</td>\n",
              "      <td>0</td>\n",
              "      <td>7</td>\n",
              "      <td>1</td>\n",
              "      <td>0</td>\n",
              "      <td>0</td>\n",
              "      <td>2</td>\n",
              "      <td>1</td>\n",
              "      <td>1398</td>\n",
              "      <td>198</td>\n",
              "      <td>...</td>\n",
              "      <td>494</td>\n",
              "      <td>1</td>\n",
              "      <td>2</td>\n",
              "      <td>46</td>\n",
              "      <td>72</td>\n",
              "      <td>1</td>\n",
              "      <td>0</td>\n",
              "      <td>0</td>\n",
              "      <td>12</td>\n",
              "      <td>50</td>\n",
              "    </tr>\n",
              "    <tr>\n",
              "      <th>2</th>\n",
              "      <td>2</td>\n",
              "      <td>0</td>\n",
              "      <td>7</td>\n",
              "      <td>1</td>\n",
              "      <td>0</td>\n",
              "      <td>0</td>\n",
              "      <td>3</td>\n",
              "      <td>1</td>\n",
              "      <td>1398</td>\n",
              "      <td>198</td>\n",
              "      <td>...</td>\n",
              "      <td>494</td>\n",
              "      <td>1</td>\n",
              "      <td>2</td>\n",
              "      <td>46</td>\n",
              "      <td>72</td>\n",
              "      <td>1</td>\n",
              "      <td>0</td>\n",
              "      <td>0</td>\n",
              "      <td>12</td>\n",
              "      <td>50</td>\n",
              "    </tr>\n",
              "    <tr>\n",
              "      <th>3</th>\n",
              "      <td>3</td>\n",
              "      <td>0</td>\n",
              "      <td>5</td>\n",
              "      <td>0</td>\n",
              "      <td>0</td>\n",
              "      <td>0</td>\n",
              "      <td>4</td>\n",
              "      <td>1</td>\n",
              "      <td>1398</td>\n",
              "      <td>198</td>\n",
              "      <td>...</td>\n",
              "      <td>494</td>\n",
              "      <td>1</td>\n",
              "      <td>2</td>\n",
              "      <td>46</td>\n",
              "      <td>72</td>\n",
              "      <td>1</td>\n",
              "      <td>0</td>\n",
              "      <td>0</td>\n",
              "      <td>12</td>\n",
              "      <td>50</td>\n",
              "    </tr>\n",
              "    <tr>\n",
              "      <th>4</th>\n",
              "      <td>4</td>\n",
              "      <td>1</td>\n",
              "      <td>6</td>\n",
              "      <td>1</td>\n",
              "      <td>0</td>\n",
              "      <td>0</td>\n",
              "      <td>0</td>\n",
              "      <td>1</td>\n",
              "      <td>1398</td>\n",
              "      <td>119</td>\n",
              "      <td>...</td>\n",
              "      <td>347</td>\n",
              "      <td>1</td>\n",
              "      <td>2</td>\n",
              "      <td>62</td>\n",
              "      <td>222</td>\n",
              "      <td>1</td>\n",
              "      <td>0</td>\n",
              "      <td>0</td>\n",
              "      <td>12</td>\n",
              "      <td>194</td>\n",
              "    </tr>\n",
              "    <tr>\n",
              "      <th>...</th>\n",
              "      <td>...</td>\n",
              "      <td>...</td>\n",
              "      <td>...</td>\n",
              "      <td>...</td>\n",
              "      <td>...</td>\n",
              "      <td>...</td>\n",
              "      <td>...</td>\n",
              "      <td>...</td>\n",
              "      <td>...</td>\n",
              "      <td>...</td>\n",
              "      <td>...</td>\n",
              "      <td>...</td>\n",
              "      <td>...</td>\n",
              "      <td>...</td>\n",
              "      <td>...</td>\n",
              "      <td>...</td>\n",
              "      <td>...</td>\n",
              "      <td>...</td>\n",
              "      <td>...</td>\n",
              "      <td>...</td>\n",
              "      <td>...</td>\n",
              "    </tr>\n",
              "    <tr>\n",
              "      <th>133031</th>\n",
              "      <td>141707</td>\n",
              "      <td>22591</td>\n",
              "      <td>5</td>\n",
              "      <td>0</td>\n",
              "      <td>1</td>\n",
              "      <td>0</td>\n",
              "      <td>4</td>\n",
              "      <td>1</td>\n",
              "      <td>158</td>\n",
              "      <td>9</td>\n",
              "      <td>...</td>\n",
              "      <td>363</td>\n",
              "      <td>1</td>\n",
              "      <td>2</td>\n",
              "      <td>23</td>\n",
              "      <td>0</td>\n",
              "      <td>0</td>\n",
              "      <td>1</td>\n",
              "      <td>0</td>\n",
              "      <td>16</td>\n",
              "      <td>203</td>\n",
              "    </tr>\n",
              "    <tr>\n",
              "      <th>133032</th>\n",
              "      <td>141708</td>\n",
              "      <td>22592</td>\n",
              "      <td>0</td>\n",
              "      <td>1</td>\n",
              "      <td>0</td>\n",
              "      <td>0</td>\n",
              "      <td>0</td>\n",
              "      <td>1</td>\n",
              "      <td>158</td>\n",
              "      <td>9</td>\n",
              "      <td>...</td>\n",
              "      <td>363</td>\n",
              "      <td>1</td>\n",
              "      <td>2</td>\n",
              "      <td>62</td>\n",
              "      <td>0</td>\n",
              "      <td>0</td>\n",
              "      <td>0</td>\n",
              "      <td>0</td>\n",
              "      <td>13</td>\n",
              "      <td>203</td>\n",
              "    </tr>\n",
              "    <tr>\n",
              "      <th>133033</th>\n",
              "      <td>141709</td>\n",
              "      <td>22592</td>\n",
              "      <td>0</td>\n",
              "      <td>1</td>\n",
              "      <td>1</td>\n",
              "      <td>0</td>\n",
              "      <td>1</td>\n",
              "      <td>1</td>\n",
              "      <td>158</td>\n",
              "      <td>9</td>\n",
              "      <td>...</td>\n",
              "      <td>363</td>\n",
              "      <td>1</td>\n",
              "      <td>2</td>\n",
              "      <td>23</td>\n",
              "      <td>72</td>\n",
              "      <td>0</td>\n",
              "      <td>0</td>\n",
              "      <td>0</td>\n",
              "      <td>13</td>\n",
              "      <td>203</td>\n",
              "    </tr>\n",
              "    <tr>\n",
              "      <th>133034</th>\n",
              "      <td>141710</td>\n",
              "      <td>22592</td>\n",
              "      <td>7</td>\n",
              "      <td>1</td>\n",
              "      <td>1</td>\n",
              "      <td>0</td>\n",
              "      <td>2</td>\n",
              "      <td>1</td>\n",
              "      <td>158</td>\n",
              "      <td>9</td>\n",
              "      <td>...</td>\n",
              "      <td>363</td>\n",
              "      <td>1</td>\n",
              "      <td>2</td>\n",
              "      <td>23</td>\n",
              "      <td>0</td>\n",
              "      <td>0</td>\n",
              "      <td>1</td>\n",
              "      <td>0</td>\n",
              "      <td>13</td>\n",
              "      <td>203</td>\n",
              "    </tr>\n",
              "    <tr>\n",
              "      <th>133035</th>\n",
              "      <td>141711</td>\n",
              "      <td>22592</td>\n",
              "      <td>5</td>\n",
              "      <td>0</td>\n",
              "      <td>1</td>\n",
              "      <td>0</td>\n",
              "      <td>3</td>\n",
              "      <td>1</td>\n",
              "      <td>158</td>\n",
              "      <td>9</td>\n",
              "      <td>...</td>\n",
              "      <td>363</td>\n",
              "      <td>1</td>\n",
              "      <td>2</td>\n",
              "      <td>23</td>\n",
              "      <td>0</td>\n",
              "      <td>0</td>\n",
              "      <td>1</td>\n",
              "      <td>0</td>\n",
              "      <td>13</td>\n",
              "      <td>203</td>\n",
              "    </tr>\n",
              "  </tbody>\n",
              "</table>\n",
              "<p>133036 rows × 25 columns</p>\n",
              "</div>\n",
              "      <button class=\"colab-df-convert\" onclick=\"convertToInteractive('df-e448591c-d590-4cd0-b39a-3382d70600c6')\"\n",
              "              title=\"Convert this dataframe to an interactive table.\"\n",
              "              style=\"display:none;\">\n",
              "        \n",
              "  <svg xmlns=\"http://www.w3.org/2000/svg\" height=\"24px\"viewBox=\"0 0 24 24\"\n",
              "       width=\"24px\">\n",
              "    <path d=\"M0 0h24v24H0V0z\" fill=\"none\"/>\n",
              "    <path d=\"M18.56 5.44l.94 2.06.94-2.06 2.06-.94-2.06-.94-.94-2.06-.94 2.06-2.06.94zm-11 1L8.5 8.5l.94-2.06 2.06-.94-2.06-.94L8.5 2.5l-.94 2.06-2.06.94zm10 10l.94 2.06.94-2.06 2.06-.94-2.06-.94-.94-2.06-.94 2.06-2.06.94z\"/><path d=\"M17.41 7.96l-1.37-1.37c-.4-.4-.92-.59-1.43-.59-.52 0-1.04.2-1.43.59L10.3 9.45l-7.72 7.72c-.78.78-.78 2.05 0 2.83L4 21.41c.39.39.9.59 1.41.59.51 0 1.02-.2 1.41-.59l7.78-7.78 2.81-2.81c.8-.78.8-2.07 0-2.86zM5.41 20L4 18.59l7.72-7.72 1.47 1.35L5.41 20z\"/>\n",
              "  </svg>\n",
              "      </button>\n",
              "      \n",
              "  <style>\n",
              "    .colab-df-container {\n",
              "      display:flex;\n",
              "      flex-wrap:wrap;\n",
              "      gap: 12px;\n",
              "    }\n",
              "\n",
              "    .colab-df-convert {\n",
              "      background-color: #E8F0FE;\n",
              "      border: none;\n",
              "      border-radius: 50%;\n",
              "      cursor: pointer;\n",
              "      display: none;\n",
              "      fill: #1967D2;\n",
              "      height: 32px;\n",
              "      padding: 0 0 0 0;\n",
              "      width: 32px;\n",
              "    }\n",
              "\n",
              "    .colab-df-convert:hover {\n",
              "      background-color: #E2EBFA;\n",
              "      box-shadow: 0px 1px 2px rgba(60, 64, 67, 0.3), 0px 1px 3px 1px rgba(60, 64, 67, 0.15);\n",
              "      fill: #174EA6;\n",
              "    }\n",
              "\n",
              "    [theme=dark] .colab-df-convert {\n",
              "      background-color: #3B4455;\n",
              "      fill: #D2E3FC;\n",
              "    }\n",
              "\n",
              "    [theme=dark] .colab-df-convert:hover {\n",
              "      background-color: #434B5C;\n",
              "      box-shadow: 0px 1px 3px 1px rgba(0, 0, 0, 0.15);\n",
              "      filter: drop-shadow(0px 1px 2px rgba(0, 0, 0, 0.3));\n",
              "      fill: #FFFFFF;\n",
              "    }\n",
              "  </style>\n",
              "\n",
              "      <script>\n",
              "        const buttonEl =\n",
              "          document.querySelector('#df-e448591c-d590-4cd0-b39a-3382d70600c6 button.colab-df-convert');\n",
              "        buttonEl.style.display =\n",
              "          google.colab.kernel.accessAllowed ? 'block' : 'none';\n",
              "\n",
              "        async function convertToInteractive(key) {\n",
              "          const element = document.querySelector('#df-e448591c-d590-4cd0-b39a-3382d70600c6');\n",
              "          const dataTable =\n",
              "            await google.colab.kernel.invokeFunction('convertToInteractive',\n",
              "                                                     [key], {});\n",
              "          if (!dataTable) return;\n",
              "\n",
              "          const docLinkHtml = 'Like what you see? Visit the ' +\n",
              "            '<a target=\"_blank\" href=https://colab.research.google.com/notebooks/data_table.ipynb>data table notebook</a>'\n",
              "            + ' to learn more about interactive tables.';\n",
              "          element.innerHTML = '';\n",
              "          dataTable['output_type'] = 'display_data';\n",
              "          await google.colab.output.renderOutput(dataTable, element);\n",
              "          const docLink = document.createElement('div');\n",
              "          docLink.innerHTML = docLinkHtml;\n",
              "          element.appendChild(docLink);\n",
              "        }\n",
              "      </script>\n",
              "    </div>\n",
              "  </div>\n",
              "  "
            ],
            "text/plain": [
              "         index  number  incident_state  active  reassignment_count  \\\n",
              "0            0       0               6       1                   0   \n",
              "1            1       0               7       1                   0   \n",
              "2            2       0               7       1                   0   \n",
              "3            3       0               5       0                   0   \n",
              "4            4       1               6       1                   0   \n",
              "...        ...     ...             ...     ...                 ...   \n",
              "133031  141707   22591               5       0                   1   \n",
              "133032  141708   22592               0       1                   0   \n",
              "133033  141709   22592               0       1                   1   \n",
              "133034  141710   22592               7       1                   1   \n",
              "133035  141711   22592               5       0                   1   \n",
              "\n",
              "        reopen_count  sys_mod_count  made_sla  caller_id  opened_by  ...  \\\n",
              "0                  0              0         1       1398        198  ...   \n",
              "1                  0              2         1       1398        198  ...   \n",
              "2                  0              3         1       1398        198  ...   \n",
              "3                  0              4         1       1398        198  ...   \n",
              "4                  0              0         1       1398        119  ...   \n",
              "...              ...            ...       ...        ...        ...  ...   \n",
              "133031             0              4         1        158          9  ...   \n",
              "133032             0              0         1        158          9  ...   \n",
              "133033             0              1         1        158          9  ...   \n",
              "133034             0              2         1        158          9  ...   \n",
              "133035             0              3         1        158          9  ...   \n",
              "\n",
              "        u_symptom  urgency  priority  assignment_group  assigned_to  \\\n",
              "0             494        1         2                46           72   \n",
              "1             494        1         2                46           72   \n",
              "2             494        1         2                46           72   \n",
              "3             494        1         2                46           72   \n",
              "4             347        1         2                62          222   \n",
              "...           ...      ...       ...               ...          ...   \n",
              "133031        363        1         2                23            0   \n",
              "133032        363        1         2                62            0   \n",
              "133033        363        1         2                23           72   \n",
              "133034        363        1         2                23            0   \n",
              "133035        363        1         2                23            0   \n",
              "\n",
              "        knowledge  u_priority_confirmation  notify  closed_code  resolved_by  \n",
              "0               1                        0       0           12           50  \n",
              "1               1                        0       0           12           50  \n",
              "2               1                        0       0           12           50  \n",
              "3               1                        0       0           12           50  \n",
              "4               1                        0       0           12          194  \n",
              "...           ...                      ...     ...          ...          ...  \n",
              "133031          0                        1       0           16          203  \n",
              "133032          0                        0       0           13          203  \n",
              "133033          0                        0       0           13          203  \n",
              "133034          0                        1       0           13          203  \n",
              "133035          0                        1       0           13          203  \n",
              "\n",
              "[133036 rows x 25 columns]"
            ]
          },
          "metadata": {},
          "execution_count": 109
        }
      ]
    },
    {
      "cell_type": "code",
      "execution_count": null,
      "metadata": {
        "id": "AtSiPcYEtqMm",
        "colab": {
          "base_uri": "https://localhost:8080/"
        },
        "outputId": "d09e75b1-5e07-4bc8-cb4f-74605169cb29"
      },
      "outputs": [
        {
          "output_type": "execute_result",
          "data": {
            "text/plain": [
              "((106428, 25), (26608, 25), (106428,), (26608,))"
            ]
          },
          "metadata": {},
          "execution_count": 110
        }
      ],
      "source": [
        "from sklearn.model_selection import train_test_split\n",
        "X_train, X_test, y_train, y_test=train_test_split(X,y,test_size=0.2, random_state=23)\n",
        "X_train.shape, X_test.shape, y_train.shape, y_test.shape\n"
      ]
    },
    {
      "cell_type": "markdown",
      "source": [
        "## Feature Engineering"
      ],
      "metadata": {
        "id": "URW5WFkeFl-V"
      }
    },
    {
      "cell_type": "markdown",
      "source": [
        "### Feature selection using Chi-Square used only for the Categorical data\n"
      ],
      "metadata": {
        "id": "jZI0WV97FvHN"
      }
    },
    {
      "cell_type": "code",
      "source": [
        "from sklearn.feature_selection import SelectKBest\n",
        "from sklearn.feature_selection import chi2"
      ],
      "metadata": {
        "id": "CDIDtKI8F-IA"
      },
      "execution_count": null,
      "outputs": []
    },
    {
      "cell_type": "code",
      "source": [
        "ordered_rank_feature=SelectKBest(score_func=chi2,k=24)\n",
        "ordered_feature=ordered_rank_feature.fit(X_train,y_train)\n",
        "ordered_feature"
      ],
      "metadata": {
        "id": "upDsuDSfF-EY",
        "colab": {
          "base_uri": "https://localhost:8080/"
        },
        "outputId": "a6fc3327-43f4-4c14-e8c1-8f3db5a78e94"
      },
      "execution_count": null,
      "outputs": [
        {
          "output_type": "execute_result",
          "data": {
            "text/plain": [
              "SelectKBest(k=24, score_func=<function chi2 at 0x7f498c528cb0>)"
            ]
          },
          "metadata": {},
          "execution_count": 112
        }
      ]
    },
    {
      "cell_type": "code",
      "source": [
        "df_scores=pd.DataFrame(ordered_feature.scores_,columns=['scores'])\n",
        "df_columns=pd.DataFrame(X_train.columns)\n",
        "features_rank=pd.concat([df_scores,df_columns],axis=1)\n",
        "features_rank.nlargest(10,'scores')"
      ],
      "metadata": {
        "id": "XNe6LZF7F9_5",
        "colab": {
          "base_uri": "https://localhost:8080/",
          "height": 363
        },
        "outputId": "35e64595-9837-497e-81a1-3383916ad145"
      },
      "execution_count": null,
      "outputs": [
        {
          "output_type": "execute_result",
          "data": {
            "text/html": [
              "\n",
              "  <div id=\"df-0d7076bd-f71c-490c-bbc2-4dc85c3cb74d\">\n",
              "    <div class=\"colab-df-container\">\n",
              "      <div>\n",
              "<style scoped>\n",
              "    .dataframe tbody tr th:only-of-type {\n",
              "        vertical-align: middle;\n",
              "    }\n",
              "\n",
              "    .dataframe tbody tr th {\n",
              "        vertical-align: top;\n",
              "    }\n",
              "\n",
              "    .dataframe thead th {\n",
              "        text-align: right;\n",
              "    }\n",
              "</style>\n",
              "<table border=\"1\" class=\"dataframe\">\n",
              "  <thead>\n",
              "    <tr style=\"text-align: right;\">\n",
              "      <th></th>\n",
              "      <th>scores</th>\n",
              "      <th>0</th>\n",
              "    </tr>\n",
              "  </thead>\n",
              "  <tbody>\n",
              "    <tr>\n",
              "      <th>0</th>\n",
              "      <td>1.544157e+07</td>\n",
              "      <td>index</td>\n",
              "    </tr>\n",
              "    <tr>\n",
              "      <th>1</th>\n",
              "      <td>2.387544e+06</td>\n",
              "      <td>number</td>\n",
              "    </tr>\n",
              "    <tr>\n",
              "      <th>9</th>\n",
              "      <td>4.046901e+04</td>\n",
              "      <td>opened_by</td>\n",
              "    </tr>\n",
              "    <tr>\n",
              "      <th>24</th>\n",
              "      <td>1.052681e+04</td>\n",
              "      <td>resolved_by</td>\n",
              "    </tr>\n",
              "    <tr>\n",
              "      <th>19</th>\n",
              "      <td>6.480809e+03</td>\n",
              "      <td>assigned_to</td>\n",
              "    </tr>\n",
              "    <tr>\n",
              "      <th>10</th>\n",
              "      <td>6.162191e+03</td>\n",
              "      <td>sys_updated_by</td>\n",
              "    </tr>\n",
              "    <tr>\n",
              "      <th>17</th>\n",
              "      <td>5.093378e+03</td>\n",
              "      <td>priority</td>\n",
              "    </tr>\n",
              "    <tr>\n",
              "      <th>16</th>\n",
              "      <td>3.425197e+03</td>\n",
              "      <td>urgency</td>\n",
              "    </tr>\n",
              "    <tr>\n",
              "      <th>8</th>\n",
              "      <td>2.334941e+03</td>\n",
              "      <td>caller_id</td>\n",
              "    </tr>\n",
              "    <tr>\n",
              "      <th>14</th>\n",
              "      <td>2.148252e+03</td>\n",
              "      <td>subcategory</td>\n",
              "    </tr>\n",
              "  </tbody>\n",
              "</table>\n",
              "</div>\n",
              "      <button class=\"colab-df-convert\" onclick=\"convertToInteractive('df-0d7076bd-f71c-490c-bbc2-4dc85c3cb74d')\"\n",
              "              title=\"Convert this dataframe to an interactive table.\"\n",
              "              style=\"display:none;\">\n",
              "        \n",
              "  <svg xmlns=\"http://www.w3.org/2000/svg\" height=\"24px\"viewBox=\"0 0 24 24\"\n",
              "       width=\"24px\">\n",
              "    <path d=\"M0 0h24v24H0V0z\" fill=\"none\"/>\n",
              "    <path d=\"M18.56 5.44l.94 2.06.94-2.06 2.06-.94-2.06-.94-.94-2.06-.94 2.06-2.06.94zm-11 1L8.5 8.5l.94-2.06 2.06-.94-2.06-.94L8.5 2.5l-.94 2.06-2.06.94zm10 10l.94 2.06.94-2.06 2.06-.94-2.06-.94-.94-2.06-.94 2.06-2.06.94z\"/><path d=\"M17.41 7.96l-1.37-1.37c-.4-.4-.92-.59-1.43-.59-.52 0-1.04.2-1.43.59L10.3 9.45l-7.72 7.72c-.78.78-.78 2.05 0 2.83L4 21.41c.39.39.9.59 1.41.59.51 0 1.02-.2 1.41-.59l7.78-7.78 2.81-2.81c.8-.78.8-2.07 0-2.86zM5.41 20L4 18.59l7.72-7.72 1.47 1.35L5.41 20z\"/>\n",
              "  </svg>\n",
              "      </button>\n",
              "      \n",
              "  <style>\n",
              "    .colab-df-container {\n",
              "      display:flex;\n",
              "      flex-wrap:wrap;\n",
              "      gap: 12px;\n",
              "    }\n",
              "\n",
              "    .colab-df-convert {\n",
              "      background-color: #E8F0FE;\n",
              "      border: none;\n",
              "      border-radius: 50%;\n",
              "      cursor: pointer;\n",
              "      display: none;\n",
              "      fill: #1967D2;\n",
              "      height: 32px;\n",
              "      padding: 0 0 0 0;\n",
              "      width: 32px;\n",
              "    }\n",
              "\n",
              "    .colab-df-convert:hover {\n",
              "      background-color: #E2EBFA;\n",
              "      box-shadow: 0px 1px 2px rgba(60, 64, 67, 0.3), 0px 1px 3px 1px rgba(60, 64, 67, 0.15);\n",
              "      fill: #174EA6;\n",
              "    }\n",
              "\n",
              "    [theme=dark] .colab-df-convert {\n",
              "      background-color: #3B4455;\n",
              "      fill: #D2E3FC;\n",
              "    }\n",
              "\n",
              "    [theme=dark] .colab-df-convert:hover {\n",
              "      background-color: #434B5C;\n",
              "      box-shadow: 0px 1px 3px 1px rgba(0, 0, 0, 0.15);\n",
              "      filter: drop-shadow(0px 1px 2px rgba(0, 0, 0, 0.3));\n",
              "      fill: #FFFFFF;\n",
              "    }\n",
              "  </style>\n",
              "\n",
              "      <script>\n",
              "        const buttonEl =\n",
              "          document.querySelector('#df-0d7076bd-f71c-490c-bbc2-4dc85c3cb74d button.colab-df-convert');\n",
              "        buttonEl.style.display =\n",
              "          google.colab.kernel.accessAllowed ? 'block' : 'none';\n",
              "\n",
              "        async function convertToInteractive(key) {\n",
              "          const element = document.querySelector('#df-0d7076bd-f71c-490c-bbc2-4dc85c3cb74d');\n",
              "          const dataTable =\n",
              "            await google.colab.kernel.invokeFunction('convertToInteractive',\n",
              "                                                     [key], {});\n",
              "          if (!dataTable) return;\n",
              "\n",
              "          const docLinkHtml = 'Like what you see? Visit the ' +\n",
              "            '<a target=\"_blank\" href=https://colab.research.google.com/notebooks/data_table.ipynb>data table notebook</a>'\n",
              "            + ' to learn more about interactive tables.';\n",
              "          element.innerHTML = '';\n",
              "          dataTable['output_type'] = 'display_data';\n",
              "          await google.colab.output.renderOutput(dataTable, element);\n",
              "          const docLink = document.createElement('div');\n",
              "          docLink.innerHTML = docLinkHtml;\n",
              "          element.appendChild(docLink);\n",
              "        }\n",
              "      </script>\n",
              "    </div>\n",
              "  </div>\n",
              "  "
            ],
            "text/plain": [
              "          scores               0\n",
              "0   1.544157e+07           index\n",
              "1   2.387544e+06          number\n",
              "9   4.046901e+04       opened_by\n",
              "24  1.052681e+04     resolved_by\n",
              "19  6.480809e+03     assigned_to\n",
              "10  6.162191e+03  sys_updated_by\n",
              "17  5.093378e+03        priority\n",
              "16  3.425197e+03         urgency\n",
              "8   2.334941e+03       caller_id\n",
              "14  2.148252e+03     subcategory"
            ]
          },
          "metadata": {},
          "execution_count": 113
        }
      ]
    },
    {
      "cell_type": "code",
      "source": [
        "ranked_features=pd.Series(ordered_feature.scores_,index=X_train.columns)\n",
        "ranked_features.nlargest(10).plot(kind='barh')\n",
        "plt.show()\n",
        "ranked_features.nlargest(10)"
      ],
      "metadata": {
        "id": "59jbOmgu9II5",
        "colab": {
          "base_uri": "https://localhost:8080/",
          "height": 469
        },
        "outputId": "eb18e21b-e6b3-4681-d70d-d7d2a714548f"
      },
      "execution_count": null,
      "outputs": [
        {
          "output_type": "display_data",
          "data": {
            "image/png": "[encoded data removed]",
            "text/plain": [
              "<Figure size 432x288 with 1 Axes>"
            ]
          },
          "metadata": {
            "needs_background": "light"
          }
        },
        {
          "output_type": "execute_result",
          "data": {
            "text/plain": [
              "index             1.544157e+07\n",
              "number            2.387544e+06\n",
              "opened_by         4.046901e+04\n",
              "resolved_by       1.052681e+04\n",
              "assigned_to       6.480809e+03\n",
              "sys_updated_by    6.162191e+03\n",
              "priority          5.093378e+03\n",
              "urgency           3.425197e+03\n",
              "caller_id         2.334941e+03\n",
              "subcategory       2.148252e+03\n",
              "dtype: float64"
            ]
          },
          "metadata": {},
          "execution_count": 114
        }
      ]
    },
    {
      "cell_type": "markdown",
      "metadata": {
        "id": "a1320bbb"
      },
      "source": [
        "# Feature selection using ExtraTreeClassifier"
      ]
    },
    {
      "cell_type": "code",
      "execution_count": null,
      "metadata": {
        "id": "15c28e01",
        "colab": {
          "base_uri": "https://localhost:8080/"
        },
        "outputId": "5389ba26-e61f-4747-d83a-d112beabde3e"
      },
      "outputs": [
        {
          "output_type": "execute_result",
          "data": {
            "text/plain": [
              "ExtraTreesClassifier()"
            ]
          },
          "metadata": {},
          "execution_count": 115
        }
      ],
      "source": [
        "from sklearn.ensemble import ExtraTreesClassifier\n",
        "import matplotlib.pyplot as plt\n",
        "model = ExtraTreesClassifier()\n",
        "model.fit(X_train,y_train)"
      ]
    },
    {
      "cell_type": "code",
      "execution_count": null,
      "metadata": {
        "id": "9fc813ec",
        "colab": {
          "base_uri": "https://localhost:8080/"
        },
        "outputId": "24834a0f-8996-4591-def7-324f67f24570"
      },
      "outputs": [
        {
          "output_type": "execute_result",
          "data": {
            "text/plain": [
              "array([8.04858711e-03, 8.04816681e-03, 2.04091606e-03, 4.27874136e-04,\n",
              "       3.48116698e-03, 5.75427917e-04, 2.89830762e-03, 6.43245337e-04,\n",
              "       6.10209267e-03, 1.37442947e-02, 2.28333156e-03, 1.72897259e-04,\n",
              "       6.91777461e-03, 6.46814740e-03, 6.13999158e-03, 4.73617100e-03,\n",
              "       2.93658628e-01, 6.05869995e-01, 4.66581600e-03, 5.01404654e-03,\n",
              "       3.56640861e-03, 3.05760381e-03, 5.03470889e-08, 4.57084509e-03,\n",
              "       6.86821331e-03])"
            ]
          },
          "metadata": {},
          "execution_count": 116
        }
      ],
      "source": [
        "model.feature_importances_"
      ]
    },
    {
      "cell_type": "code",
      "execution_count": null,
      "metadata": {
        "id": "304ea08e",
        "colab": {
          "base_uri": "https://localhost:8080/",
          "height": 456
        },
        "outputId": "333a2e94-6546-4790-f3df-caa8398cab96"
      },
      "outputs": [
        {
          "output_type": "display_data",
          "data": {
            "image/png": "[encoded data removed]",
            "text/plain": [
              "<Figure size 432x288 with 1 Axes>"
            ]
          },
          "metadata": {
            "needs_background": "light"
          }
        },
        {
          "output_type": "execute_result",
          "data": {
            "text/plain": [
              "priority       0.605870\n",
              "urgency        0.293659\n",
              "opened_by      0.013744\n",
              "index          0.008049\n",
              "number         0.008048\n",
              "location       0.006918\n",
              "resolved_by    0.006868\n",
              "category       0.006468\n",
              "subcategory    0.006140\n",
              "caller_id      0.006102\n",
              "dtype: float64"
            ]
          },
          "metadata": {},
          "execution_count": 117
        }
      ],
      "source": [
        "ranked_features=pd.Series(model.feature_importances_,index=X_train.columns)\n",
        "ranked_features.nlargest(10).plot(kind='barh')\n",
        "plt.show()\n",
        "ranked_features.nlargest(10)"
      ]
    },
    {
      "cell_type": "markdown",
      "metadata": {
        "id": "7e9c02ec"
      },
      "source": [
        "# Feature selection using DecisionTreeClassifier"
      ]
    },
    {
      "cell_type": "code",
      "execution_count": null,
      "metadata": {
        "id": "51e86bb8",
        "colab": {
          "base_uri": "https://localhost:8080/"
        },
        "outputId": "36a277c1-2d26-4aca-8593-e7934286c413"
      },
      "outputs": [
        {
          "output_type": "execute_result",
          "data": {
            "text/plain": [
              "DecisionTreeClassifier()"
            ]
          },
          "metadata": {},
          "execution_count": 118
        }
      ],
      "source": [
        "from sklearn.tree import DecisionTreeClassifier\n",
        "\n",
        "DT_class = DecisionTreeClassifier()\n",
        "DT_class.fit(X_train,y_train)"
      ]
    },
    {
      "cell_type": "code",
      "source": [
        "DT_class.feature_importances_"
      ],
      "metadata": {
        "id": "7p-ng_YBz4KI",
        "colab": {
          "base_uri": "https://localhost:8080/"
        },
        "outputId": "df1b0d83-65e4-4260-be2e-0bde394dda70"
      },
      "execution_count": null,
      "outputs": [
        {
          "output_type": "execute_result",
          "data": {
            "text/plain": [
              "array([1.58965560e-03, 3.89514105e-03, 0.00000000e+00, 0.00000000e+00,\n",
              "       1.86499657e-03, 0.00000000e+00, 0.00000000e+00, 0.00000000e+00,\n",
              "       3.07432790e-05, 1.69930198e-04, 0.00000000e+00, 0.00000000e+00,\n",
              "       1.24153761e-03, 0.00000000e+00, 4.44609343e-03, 1.01854150e-03,\n",
              "       1.05777770e-01, 8.79444411e-01, 0.00000000e+00, 0.00000000e+00,\n",
              "       0.00000000e+00, 0.00000000e+00, 0.00000000e+00, 3.69994653e-04,\n",
              "       1.51184962e-04])"
            ]
          },
          "metadata": {},
          "execution_count": 119
        }
      ]
    },
    {
      "cell_type": "code",
      "source": [
        "ranked_features=pd.Series(DT_class.feature_importances_,index=X_train.columns)\n",
        "ranked_features.nlargest(10).plot(kind='barh')\n",
        "plt.show()\n",
        "ranked_features.nlargest(10)"
      ],
      "metadata": {
        "id": "rFBclgdJ0lcx",
        "colab": {
          "base_uri": "https://localhost:8080/",
          "height": 456
        },
        "outputId": "39b72555-a15b-4320-ed1c-2a735e37becc"
      },
      "execution_count": null,
      "outputs": [
        {
          "output_type": "display_data",
          "data": {
            "image/png": "[encoded data removed]",
            "text/plain": [
              "<Figure size 432x288 with 1 Axes>"
            ]
          },
          "metadata": {
            "needs_background": "light"
          }
        },
        {
          "output_type": "execute_result",
          "data": {
            "text/plain": [
              "priority              0.879444\n",
              "urgency               0.105778\n",
              "subcategory           0.004446\n",
              "number                0.003895\n",
              "reassignment_count    0.001865\n",
              "index                 0.001590\n",
              "location              0.001242\n",
              "u_symptom             0.001019\n",
              "closed_code           0.000370\n",
              "opened_by             0.000170\n",
              "dtype: float64"
            ]
          },
          "metadata": {},
          "execution_count": 120
        }
      ]
    },
    {
      "cell_type": "markdown",
      "metadata": {
        "id": "7adb5a53"
      },
      "source": [
        "# Feature Selection using Mutual information"
      ]
    },
    {
      "cell_type": "code",
      "execution_count": null,
      "metadata": {
        "id": "c2bc162d",
        "colab": {
          "base_uri": "https://localhost:8080/"
        },
        "outputId": "48593ea6-1711-493e-ea0d-5f9b37249c9e"
      },
      "outputs": [
        {
          "output_type": "execute_result",
          "data": {
            "text/plain": [
              "array([0.18870183, 0.1952432 , 0.00540055, 0.01643196, 0.00144955,\n",
              "       0.0004577 , 0.00263106, 0.02060169, 0.10893495, 0.07015353,\n",
              "       0.03208678, 0.02318665, 0.01492195, 0.02080647, 0.02912986,\n",
              "       0.03385093, 0.17164006, 0.24627854, 0.02770288, 0.04149148,\n",
              "       0.00404098, 0.00229828, 0.00046762, 0.01252118, 0.0472584 ])"
            ]
          },
          "metadata": {},
          "execution_count": 121
        }
      ],
      "source": [
        "from sklearn.feature_selection import mutual_info_classif\n",
        "mutual_info = mutual_info_classif(X_train, y_train)\n",
        "mutual_info"
      ]
    },
    {
      "cell_type": "code",
      "source": [
        "ranked_features=pd.Series(mutual_info,index=X_train.columns)\n",
        "ranked_features.nlargest(10).plot(kind='barh')\n",
        "plt.show()\n",
        "ranked_features.nlargest(10)"
      ],
      "metadata": {
        "id": "f9aEUVqX3T5O",
        "colab": {
          "base_uri": "https://localhost:8080/",
          "height": 456
        },
        "outputId": "8bc9bd17-bdac-4386-f2f1-efaba5f7a943"
      },
      "execution_count": null,
      "outputs": [
        {
          "output_type": "display_data",
          "data": {
            "image/png": "[encoded data removed]",
            "text/plain": [
              "<Figure size 432x288 with 1 Axes>"
            ]
          },
          "metadata": {
            "needs_background": "light"
          }
        },
        {
          "output_type": "execute_result",
          "data": {
            "text/plain": [
              "priority          0.246279\n",
              "number            0.195243\n",
              "index             0.188702\n",
              "urgency           0.171640\n",
              "caller_id         0.108935\n",
              "opened_by         0.070154\n",
              "resolved_by       0.047258\n",
              "assigned_to       0.041491\n",
              "u_symptom         0.033851\n",
              "sys_updated_by    0.032087\n",
              "dtype: float64"
            ]
          },
          "metadata": {},
          "execution_count": 122
        }
      ]
    },
    {
      "cell_type": "markdown",
      "source": [
        "## Selected the important Features which are obtained from the Feature Selection Process.(Select the Features having more impact on dependent variable.)"
      ],
      "metadata": {
        "id": "H_jhh-3f204b"
      }
    },
    {
      "cell_type": "code",
      "execution_count": null,
      "metadata": {
        "id": "kicRIjGFtqWY",
        "colab": {
          "base_uri": "https://localhost:8080/",
          "height": 488
        },
        "outputId": "902c574a-2699-48b8-b982-adfd17b46bf0"
      },
      "outputs": [
        {
          "output_type": "execute_result",
          "data": {
            "text/html": [
              "\n",
              "  <div id=\"df-086ce4d5-612a-4d4b-93b9-5fbd5c4bcb72\">\n",
              "    <div class=\"colab-df-container\">\n",
              "      <div>\n",
              "<style scoped>\n",
              "    .dataframe tbody tr th:only-of-type {\n",
              "        vertical-align: middle;\n",
              "    }\n",
              "\n",
              "    .dataframe tbody tr th {\n",
              "        vertical-align: top;\n",
              "    }\n",
              "\n",
              "    .dataframe thead th {\n",
              "        text-align: right;\n",
              "    }\n",
              "</style>\n",
              "<table border=\"1\" class=\"dataframe\">\n",
              "  <thead>\n",
              "    <tr style=\"text-align: right;\">\n",
              "      <th></th>\n",
              "      <th>priority</th>\n",
              "      <th>urgency</th>\n",
              "      <th>index</th>\n",
              "      <th>number</th>\n",
              "      <th>opened_by</th>\n",
              "      <th>resolved_by</th>\n",
              "      <th>assigned_to</th>\n",
              "      <th>category</th>\n",
              "      <th>knowledge</th>\n",
              "      <th>location</th>\n",
              "      <th>u_priority_confirmation</th>\n",
              "      <th>reassignment_count</th>\n",
              "    </tr>\n",
              "  </thead>\n",
              "  <tbody>\n",
              "    <tr>\n",
              "      <th>0</th>\n",
              "      <td>2</td>\n",
              "      <td>1</td>\n",
              "      <td>0</td>\n",
              "      <td>0</td>\n",
              "      <td>198</td>\n",
              "      <td>50</td>\n",
              "      <td>72</td>\n",
              "      <td>45</td>\n",
              "      <td>1</td>\n",
              "      <td>41</td>\n",
              "      <td>0</td>\n",
              "      <td>0</td>\n",
              "    </tr>\n",
              "    <tr>\n",
              "      <th>1</th>\n",
              "      <td>2</td>\n",
              "      <td>1</td>\n",
              "      <td>1</td>\n",
              "      <td>0</td>\n",
              "      <td>198</td>\n",
              "      <td>50</td>\n",
              "      <td>72</td>\n",
              "      <td>45</td>\n",
              "      <td>1</td>\n",
              "      <td>41</td>\n",
              "      <td>0</td>\n",
              "      <td>0</td>\n",
              "    </tr>\n",
              "    <tr>\n",
              "      <th>2</th>\n",
              "      <td>2</td>\n",
              "      <td>1</td>\n",
              "      <td>2</td>\n",
              "      <td>0</td>\n",
              "      <td>198</td>\n",
              "      <td>50</td>\n",
              "      <td>72</td>\n",
              "      <td>45</td>\n",
              "      <td>1</td>\n",
              "      <td>41</td>\n",
              "      <td>0</td>\n",
              "      <td>0</td>\n",
              "    </tr>\n",
              "    <tr>\n",
              "      <th>3</th>\n",
              "      <td>2</td>\n",
              "      <td>1</td>\n",
              "      <td>3</td>\n",
              "      <td>0</td>\n",
              "      <td>198</td>\n",
              "      <td>50</td>\n",
              "      <td>72</td>\n",
              "      <td>45</td>\n",
              "      <td>1</td>\n",
              "      <td>41</td>\n",
              "      <td>0</td>\n",
              "      <td>0</td>\n",
              "    </tr>\n",
              "    <tr>\n",
              "      <th>4</th>\n",
              "      <td>2</td>\n",
              "      <td>1</td>\n",
              "      <td>4</td>\n",
              "      <td>1</td>\n",
              "      <td>119</td>\n",
              "      <td>194</td>\n",
              "      <td>222</td>\n",
              "      <td>29</td>\n",
              "      <td>1</td>\n",
              "      <td>60</td>\n",
              "      <td>0</td>\n",
              "      <td>0</td>\n",
              "    </tr>\n",
              "    <tr>\n",
              "      <th>...</th>\n",
              "      <td>...</td>\n",
              "      <td>...</td>\n",
              "      <td>...</td>\n",
              "      <td>...</td>\n",
              "      <td>...</td>\n",
              "      <td>...</td>\n",
              "      <td>...</td>\n",
              "      <td>...</td>\n",
              "      <td>...</td>\n",
              "      <td>...</td>\n",
              "      <td>...</td>\n",
              "      <td>...</td>\n",
              "    </tr>\n",
              "    <tr>\n",
              "      <th>133031</th>\n",
              "      <td>2</td>\n",
              "      <td>1</td>\n",
              "      <td>141707</td>\n",
              "      <td>22591</td>\n",
              "      <td>9</td>\n",
              "      <td>203</td>\n",
              "      <td>0</td>\n",
              "      <td>31</td>\n",
              "      <td>0</td>\n",
              "      <td>101</td>\n",
              "      <td>1</td>\n",
              "      <td>1</td>\n",
              "    </tr>\n",
              "    <tr>\n",
              "      <th>133032</th>\n",
              "      <td>2</td>\n",
              "      <td>1</td>\n",
              "      <td>141708</td>\n",
              "      <td>22592</td>\n",
              "      <td>9</td>\n",
              "      <td>203</td>\n",
              "      <td>0</td>\n",
              "      <td>31</td>\n",
              "      <td>0</td>\n",
              "      <td>101</td>\n",
              "      <td>0</td>\n",
              "      <td>0</td>\n",
              "    </tr>\n",
              "    <tr>\n",
              "      <th>133033</th>\n",
              "      <td>2</td>\n",
              "      <td>1</td>\n",
              "      <td>141709</td>\n",
              "      <td>22592</td>\n",
              "      <td>9</td>\n",
              "      <td>203</td>\n",
              "      <td>72</td>\n",
              "      <td>31</td>\n",
              "      <td>0</td>\n",
              "      <td>101</td>\n",
              "      <td>0</td>\n",
              "      <td>1</td>\n",
              "    </tr>\n",
              "    <tr>\n",
              "      <th>133034</th>\n",
              "      <td>2</td>\n",
              "      <td>1</td>\n",
              "      <td>141710</td>\n",
              "      <td>22592</td>\n",
              "      <td>9</td>\n",
              "      <td>203</td>\n",
              "      <td>0</td>\n",
              "      <td>31</td>\n",
              "      <td>0</td>\n",
              "      <td>101</td>\n",
              "      <td>1</td>\n",
              "      <td>1</td>\n",
              "    </tr>\n",
              "    <tr>\n",
              "      <th>133035</th>\n",
              "      <td>2</td>\n",
              "      <td>1</td>\n",
              "      <td>141711</td>\n",
              "      <td>22592</td>\n",
              "      <td>9</td>\n",
              "      <td>203</td>\n",
              "      <td>0</td>\n",
              "      <td>31</td>\n",
              "      <td>0</td>\n",
              "      <td>101</td>\n",
              "      <td>1</td>\n",
              "      <td>1</td>\n",
              "    </tr>\n",
              "  </tbody>\n",
              "</table>\n",
              "<p>133036 rows × 12 columns</p>\n",
              "</div>\n",
              "      <button class=\"colab-df-convert\" onclick=\"convertToInteractive('df-086ce4d5-612a-4d4b-93b9-5fbd5c4bcb72')\"\n",
              "              title=\"Convert this dataframe to an interactive table.\"\n",
              "              style=\"display:none;\">\n",
              "        \n",
              "  <svg xmlns=\"http://www.w3.org/2000/svg\" height=\"24px\"viewBox=\"0 0 24 24\"\n",
              "       width=\"24px\">\n",
              "    <path d=\"M0 0h24v24H0V0z\" fill=\"none\"/>\n",
              "    <path d=\"M18.56 5.44l.94 2.06.94-2.06 2.06-.94-2.06-.94-.94-2.06-.94 2.06-2.06.94zm-11 1L8.5 8.5l.94-2.06 2.06-.94-2.06-.94L8.5 2.5l-.94 2.06-2.06.94zm10 10l.94 2.06.94-2.06 2.06-.94-2.06-.94-.94-2.06-.94 2.06-2.06.94z\"/><path d=\"M17.41 7.96l-1.37-1.37c-.4-.4-.92-.59-1.43-.59-.52 0-1.04.2-1.43.59L10.3 9.45l-7.72 7.72c-.78.78-.78 2.05 0 2.83L4 21.41c.39.39.9.59 1.41.59.51 0 1.02-.2 1.41-.59l7.78-7.78 2.81-2.81c.8-.78.8-2.07 0-2.86zM5.41 20L4 18.59l7.72-7.72 1.47 1.35L5.41 20z\"/>\n",
              "  </svg>\n",
              "      </button>\n",
              "      \n",
              "  <style>\n",
              "    .colab-df-container {\n",
              "      display:flex;\n",
              "      flex-wrap:wrap;\n",
              "      gap: 12px;\n",
              "    }\n",
              "\n",
              "    .colab-df-convert {\n",
              "      background-color: #E8F0FE;\n",
              "      border: none;\n",
              "      border-radius: 50%;\n",
              "      cursor: pointer;\n",
              "      display: none;\n",
              "      fill: #1967D2;\n",
              "      height: 32px;\n",
              "      padding: 0 0 0 0;\n",
              "      width: 32px;\n",
              "    }\n",
              "\n",
              "    .colab-df-convert:hover {\n",
              "      background-color: #E2EBFA;\n",
              "      box-shadow: 0px 1px 2px rgba(60, 64, 67, 0.3), 0px 1px 3px 1px rgba(60, 64, 67, 0.15);\n",
              "      fill: #174EA6;\n",
              "    }\n",
              "\n",
              "    [theme=dark] .colab-df-convert {\n",
              "      background-color: #3B4455;\n",
              "      fill: #D2E3FC;\n",
              "    }\n",
              "\n",
              "    [theme=dark] .colab-df-convert:hover {\n",
              "      background-color: #434B5C;\n",
              "      box-shadow: 0px 1px 3px 1px rgba(0, 0, 0, 0.15);\n",
              "      filter: drop-shadow(0px 1px 2px rgba(0, 0, 0, 0.3));\n",
              "      fill: #FFFFFF;\n",
              "    }\n",
              "  </style>\n",
              "\n",
              "      <script>\n",
              "        const buttonEl =\n",
              "          document.querySelector('#df-086ce4d5-612a-4d4b-93b9-5fbd5c4bcb72 button.colab-df-convert');\n",
              "        buttonEl.style.display =\n",
              "          google.colab.kernel.accessAllowed ? 'block' : 'none';\n",
              "\n",
              "        async function convertToInteractive(key) {\n",
              "          const element = document.querySelector('#df-086ce4d5-612a-4d4b-93b9-5fbd5c4bcb72');\n",
              "          const dataTable =\n",
              "            await google.colab.kernel.invokeFunction('convertToInteractive',\n",
              "                                                     [key], {});\n",
              "          if (!dataTable) return;\n",
              "\n",
              "          const docLinkHtml = 'Like what you see? Visit the ' +\n",
              "            '<a target=\"_blank\" href=https://colab.research.google.com/notebooks/data_table.ipynb>data table notebook</a>'\n",
              "            + ' to learn more about interactive tables.';\n",
              "          element.innerHTML = '';\n",
              "          dataTable['output_type'] = 'display_data';\n",
              "          await google.colab.output.renderOutput(dataTable, element);\n",
              "          const docLink = document.createElement('div');\n",
              "          docLink.innerHTML = docLinkHtml;\n",
              "          element.appendChild(docLink);\n",
              "        }\n",
              "      </script>\n",
              "    </div>\n",
              "  </div>\n",
              "  "
            ],
            "text/plain": [
              "        priority  urgency   index  number  opened_by  resolved_by  \\\n",
              "0              2        1       0       0        198           50   \n",
              "1              2        1       1       0        198           50   \n",
              "2              2        1       2       0        198           50   \n",
              "3              2        1       3       0        198           50   \n",
              "4              2        1       4       1        119          194   \n",
              "...          ...      ...     ...     ...        ...          ...   \n",
              "133031         2        1  141707   22591          9          203   \n",
              "133032         2        1  141708   22592          9          203   \n",
              "133033         2        1  141709   22592          9          203   \n",
              "133034         2        1  141710   22592          9          203   \n",
              "133035         2        1  141711   22592          9          203   \n",
              "\n",
              "        assigned_to  category  knowledge  location  u_priority_confirmation  \\\n",
              "0                72        45          1        41                        0   \n",
              "1                72        45          1        41                        0   \n",
              "2                72        45          1        41                        0   \n",
              "3                72        45          1        41                        0   \n",
              "4               222        29          1        60                        0   \n",
              "...             ...       ...        ...       ...                      ...   \n",
              "133031            0        31          0       101                        1   \n",
              "133032            0        31          0       101                        0   \n",
              "133033           72        31          0       101                        0   \n",
              "133034            0        31          0       101                        1   \n",
              "133035            0        31          0       101                        1   \n",
              "\n",
              "        reassignment_count  \n",
              "0                        0  \n",
              "1                        0  \n",
              "2                        0  \n",
              "3                        0  \n",
              "4                        0  \n",
              "...                    ...  \n",
              "133031                   1  \n",
              "133032                   0  \n",
              "133033                   1  \n",
              "133034                   1  \n",
              "133035                   1  \n",
              "\n",
              "[133036 rows x 12 columns]"
            ]
          },
          "metadata": {},
          "execution_count": 123
        }
      ],
      "source": [
        "X=incident_data[['priority','urgency','index','number','opened_by','resolved_by','assigned_to','category','knowledge','location','u_priority_confirmation','reassignment_count']]\n",
        "X"
      ]
    },
    {
      "cell_type": "code",
      "source": [
        "X.info()"
      ],
      "metadata": {
        "id": "-O7-PgZx6rFa",
        "colab": {
          "base_uri": "https://localhost:8080/"
        },
        "outputId": "365f8c96-90c0-467c-b0cc-07c9fdffbe03"
      },
      "execution_count": null,
      "outputs": [
        {
          "output_type": "stream",
          "name": "stdout",
          "text": [
            "<class 'pandas.core.frame.DataFrame'>\n",
            "RangeIndex: 133036 entries, 0 to 133035\n",
            "Data columns (total 12 columns):\n",
            " #   Column                   Non-Null Count   Dtype\n",
            "---  ------                   --------------   -----\n",
            " 0   priority                 133036 non-null  int64\n",
            " 1   urgency                  133036 non-null  int64\n",
            " 2   index                    133036 non-null  int64\n",
            " 3   number                   133036 non-null  int64\n",
            " 4   opened_by                133036 non-null  int64\n",
            " 5   resolved_by              133036 non-null  int64\n",
            " 6   assigned_to              133036 non-null  int64\n",
            " 7   category                 133036 non-null  int64\n",
            " 8   knowledge                133036 non-null  int64\n",
            " 9   location                 133036 non-null  int64\n",
            " 10  u_priority_confirmation  133036 non-null  int64\n",
            " 11  reassignment_count       133036 non-null  int64\n",
            "dtypes: int64(12)\n",
            "memory usage: 12.2 MB\n"
          ]
        }
      ]
    },
    {
      "cell_type": "code",
      "source": [
        "from sklearn.model_selection import train_test_split\n",
        "X_train, X_test, y_train, y_test=train_test_split(X,y,test_size=0.2, random_state=23)\n",
        "X_train.shape, X_test.shape, y_train.shape, y_test.shape"
      ],
      "metadata": {
        "id": "SKbXKftM0laJ",
        "colab": {
          "base_uri": "https://localhost:8080/"
        },
        "outputId": "93f47080-0dd1-4036-e944-b3f4c47dd546"
      },
      "execution_count": null,
      "outputs": [
        {
          "output_type": "execute_result",
          "data": {
            "text/plain": [
              "((106428, 12), (26608, 12), (106428,), (26608,))"
            ]
          },
          "metadata": {},
          "execution_count": 125
        }
      ]
    }
  ]
}